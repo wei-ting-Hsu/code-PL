{
 "cells": [
  {
   "cell_type": "code",
   "execution_count": 13,
   "metadata": {},
   "outputs": [],
   "source": [
    "import pandas as pd\n",
    "import numpy as np"
   ]
  },
  {
   "cell_type": "code",
   "execution_count": 14,
   "metadata": {},
   "outputs": [],
   "source": [
    "df_2017_2018 = pd.read_csv('2017-2018.csv')\n",
    "df_2021_2022 = pd.read_csv('2021-2022.csv')"
   ]
  },
  {
   "cell_type": "code",
   "execution_count": 15,
   "metadata": {},
   "outputs": [],
   "source": [
    "player_set = set(df_2017_2018['player'])\n",
    "player2_set = set(df_2021_2022['player'])"
   ]
  },
  {
   "cell_type": "code",
   "execution_count": 16,
   "metadata": {},
   "outputs": [
    {
     "name": "stdout",
     "output_type": "stream",
     "text": [
      "聯集: {'Jordan Poole', 'Moses Moody', 'Chris Boucher', 'Kevin Durant', 'Andrew Wiggins', 'Omri Casspi', 'Juan Toscano-Anderson', 'Draymond Green', 'Zaza Pachulia', 'Damian Jones', 'Gary Payton II', 'Nick Young', 'Andre Iguodala', 'David West', 'Jordan Bell', 'Jonathan Kuminga', 'Nemanja Bjelica', 'Stephen Curry', 'Andre Iguodal', 'Kevon Looney', 'Quinn Cook', 'Otto Porter Jr.', 'James Wiseman', 'Damion Lee', 'JaVale McGee', 'Shaun Livingston', 'Klay Thompson', 'Patrick McCaw', 'Chris Chiozza'}\n"
     ]
    }
   ],
   "source": [
    "# 聯集 (Union)\n",
    "union_set = player_set.union(player2_set)\n",
    "print(\"聯集:\", union_set)\n"
   ]
  },
  {
   "cell_type": "code",
   "execution_count": 17,
   "metadata": {},
   "outputs": [
    {
     "name": "stdout",
     "output_type": "stream",
     "text": [
      "交集: {'Klay Thompson', 'Draymond Green', 'Stephen Curry'}\n"
     ]
    }
   ],
   "source": [
    "# 交集 (Intersection)\n",
    "# 兩個時期都持續在隊上服役的球員\n",
    "intersection_set = player_set.intersection(player2_set)\n",
    "print(\"交集:\", intersection_set)"
   ]
  },
  {
   "cell_type": "code",
   "execution_count": 18,
   "metadata": {},
   "outputs": [
    {
     "name": "stdout",
     "output_type": "stream",
     "text": [
      "差集: {'Chris Boucher', 'Kevin Durant', 'Omri Casspi', 'Zaza Pachulia', 'Quinn Cook', 'Damian Jones', 'Nick Young', 'Andre Iguodala', 'David West', 'Jordan Bell', 'JaVale McGee', 'Shaun Livingston', 'Kevon Looney', 'Patrick McCaw'}\n"
     ]
    }
   ],
   "source": [
    "# 差集 (Difference)\n",
    "# 只有單一時期在隊上服役的球員\n",
    "difference_set = player_set.difference(player2_set)\n",
    "print(\"差集:\", difference_set)"
   ]
  }
 ],
 "metadata": {
  "kernelspec": {
   "display_name": "base",
   "language": "python",
   "name": "python3"
  },
  "language_info": {
   "codemirror_mode": {
    "name": "ipython",
    "version": 3
   },
   "file_extension": ".py",
   "mimetype": "text/x-python",
   "name": "python",
   "nbconvert_exporter": "python",
   "pygments_lexer": "ipython3",
   "version": "3.11.5"
  }
 },
 "nbformat": 4,
 "nbformat_minor": 2
}

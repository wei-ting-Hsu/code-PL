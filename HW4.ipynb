{
 "cells": [
  {
   "cell_type": "code",
   "execution_count": 1,
   "metadata": {},
   "outputs": [],
   "source": [
    "import requests\n",
    "from bs4 import BeautifulSoup\n",
    "import pandas as pd\n",
    "import json\n",
    "import re"
   ]
  },
  {
   "cell_type": "code",
   "execution_count": 2,
   "metadata": {},
   "outputs": [
    {
     "name": "stdout",
     "output_type": "stream",
     "text": [
      "寫入成功\n"
     ]
    }
   ],
   "source": [
    "# 發送HTTP請求並獲取網頁資料\n",
    "response = requests.get('https://www.ptt.cc/bbs/NBA/index6508.html')\n",
    "\n",
    "if response.status_code == 200:\n",
    "    with open('nba.html', 'w', encoding='utf-8') as f:\n",
    "        f.write(response.text)\n",
    "    print(\"寫入成功\")\n",
    "else:\n",
    "    print(\"沒有抓到網頁\")    "
   ]
  },
  {
   "cell_type": "code",
   "execution_count": 3,
   "metadata": {},
   "outputs": [],
   "source": [
    "# 解析網頁資料\n",
    "soup = BeautifulSoup(response.text, 'html.parser')\n",
    "# 提取你需要的資訊\n",
    "articles = soup.find_all('div', {'class': 'r-ent'})"
   ]
  },
  {
   "cell_type": "code",
   "execution_count": 4,
   "metadata": {},
   "outputs": [],
   "source": [
    "# 使用正則表達式清洗資料\n",
    "pattern = re.compile(r'\\s+')\n",
    "data_list = []\n",
    "for a in articles:\n",
    "    data = {}\n",
    "    title = a.find(\"div\", class_=\"title\")\n",
    "    if title and title.a:\n",
    "        title = re.sub(pattern, ' ', title.a.text)\n",
    "    else:\n",
    "        title =\"沒有標題\"\n",
    "    data[\"標題\"] = title\n",
    "    popular = a.find(\"div\", class_=\"nrec\")\n",
    "    if popular and popular.span:\n",
    "        popular = re.sub(pattern, ' ', popular.span.text)\n",
    "    else:\n",
    "        popular =\"N/A\" \n",
    "    data[\"人氣\"] = popular\n",
    "    date = a.find(\"div\", class_=\"date\")\n",
    "    if date:\n",
    "        date = re.sub(pattern, ' ', date.text)\n",
    "    else:\n",
    "        date =\"N/A\"\n",
    "    data[\"日期\"] = date\n",
    "    data_list.append(data) \n"
   ]
  },
  {
   "cell_type": "code",
   "execution_count": 5,
   "metadata": {},
   "outputs": [],
   "source": [
    "#將資料輸出成json\n",
    "with open('python_news.json', 'w', encoding='utf-8') as f:\n",
    "    json.dump(data_list, f, ensure_ascii=False, indent=4)  "
   ]
  },
  {
   "cell_type": "code",
   "execution_count": 6,
   "metadata": {},
   "outputs": [],
   "source": [
    "# 使用正則表達式清洗資料\n",
    "pattern = re.compile(r'\\s+')\n",
    "data_list = []\n",
    "for a in articles:\n",
    "    title = a.find(\"div\", class_=\"title\")\n",
    "    if title and title.a:\n",
    "        title = re.sub(pattern, ' ', title.a.text)\n",
    "    else:\n",
    "        title =\"沒有標題\"\n",
    "    popular = a.find(\"div\", class_=\"nrec\")\n",
    "    if popular and popular.span:\n",
    "        popular = re.sub(pattern, ' ', popular.span.text)\n",
    "    else:\n",
    "        popular =\"N/A\" \n",
    "    date = a.find(\"div\", class_=\"date\")\n",
    "    if date:\n",
    "        date = re.sub(pattern, ' ', date.text)\n",
    "    else:\n",
    "        date =\"N/A\"\n",
    "         \n",
    "    data_list.append((title, popular, date))"
   ]
  },
  {
   "cell_type": "code",
   "execution_count": 7,
   "metadata": {},
   "outputs": [],
   "source": [
    "#將資料輸出成.csv\n",
    "df = pd.DataFrame(data_list, columns=['title', 'popular', 'date'])\n",
    "df.to_csv('nba.csv', index=False)"
   ]
  }
 ],
 "metadata": {
  "kernelspec": {
   "display_name": "base",
   "language": "python",
   "name": "python3"
  },
  "language_info": {
   "codemirror_mode": {
    "name": "ipython",
    "version": 3
   },
   "file_extension": ".py",
   "mimetype": "text/x-python",
   "name": "python",
   "nbconvert_exporter": "python",
   "pygments_lexer": "ipython3",
   "version": "3.11.5"
  }
 },
 "nbformat": 4,
 "nbformat_minor": 2
}
